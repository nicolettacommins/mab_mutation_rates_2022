{
 "cells": [
  {
   "cell_type": "code",
   "execution_count": 1,
   "id": "dd50878f",
   "metadata": {},
   "outputs": [
    {
     "data": {
      "text/html": [
       "<style>.container { width:100% !important; }</style>"
      ],
      "text/plain": [
       "<IPython.core.display.HTML object>"
      ]
     },
     "metadata": {},
     "output_type": "display_data"
    }
   ],
   "source": [
    "from IPython.core.display import display, HTML\n",
    "display(HTML(\"<style>.container { width:100% !important; }</style>\"))"
   ]
  },
  {
   "cell_type": "code",
   "execution_count": 22,
   "id": "768925ee",
   "metadata": {},
   "outputs": [],
   "source": [
    "from pairsnp import calculate_snp_matrix, calculate_distance_matrix\n",
    "from Bio import Phylo, AlignIO, SeqIO\n",
    "from Bio.Seq import Seq\n",
    "from Bio.SeqRecord import SeqRecord\n",
    "from Bio.Align import MultipleSeqAlignment\n",
    "import pandas as pd\n",
    "import numpy as np"
   ]
  },
  {
   "cell_type": "code",
   "execution_count": 3,
   "id": "2c6dfe82",
   "metadata": {},
   "outputs": [],
   "source": [
    "# Get a list of all the clustered samples as defined by TreeGubbins\n",
    "filtered_cluster_data=pd.read_csv('/n/data1/hms/dbmi/farhat/nikki/abscessus/0_NOTEBOOKS/working_trees/mab/mab_upid_dropped_outgroup_and_outlier_distance_rooted_TreeGubbins_filtered.csv')\n",
    "clustered_samples=list(filtered_cluster_data.BioSample)"
   ]
  },
  {
   "cell_type": "code",
   "execution_count": 4,
   "id": "88216a21",
   "metadata": {},
   "outputs": [],
   "source": [
    "# Paths to alignments and metadata that I need\n",
    "full_tree_path='/n/data1/hms/dbmi/farhat/nikki/abscessus/0_NOTEBOOKS/working_trees/mab/20200731_mab_upid_droppedOutliers.fasta'\n",
    "treemmer_tree_path='/n/data1/hms/dbmi/farhat/nikki/abscessus/0_NOTEBOOKS/001_TEMPORAL_SIGNAL/treemmer/fasta/20200924_MAB_all_samples_treemer_trimmed95RTL.fasta'\n",
    "clusterA_list_path='/n/data1/hms/dbmi/farhat/nikki/abscessus/0_NOTEBOOKS/metadata/clusters/mab_clusterA.txt'\n",
    "clusterB_list_path='/n/data1/hms/dbmi/farhat/nikki/abscessus/0_NOTEBOOKS/metadata/clusters/mab_clusterB.txt'"
   ]
  },
  {
   "cell_type": "code",
   "execution_count": 5,
   "id": "c12d9182",
   "metadata": {},
   "outputs": [],
   "source": [
    "# read in the alignments for the full tree and treemmer tree\n",
    "full_tree_aln=AlignIO.read(full_tree_path, \"fasta\")\n",
    "treemmer_tree_aln=AlignIO.read(treemmer_tree_path, \"fasta\")"
   ]
  },
  {
   "cell_type": "code",
   "execution_count": 6,
   "id": "aa9e7c42",
   "metadata": {},
   "outputs": [],
   "source": [
    "# read in lists of samples within clusters\n",
    "clustA_list=[line.strip() for line in open(clusterA_list_path)]\n",
    "clustB_list=[line.strip() for line in open(clusterB_list_path)]"
   ]
  },
  {
   "cell_type": "code",
   "execution_count": 7,
   "id": "baf7a928",
   "metadata": {},
   "outputs": [],
   "source": [
    "# subset the full tree fasta file including only the samples in clust A and clustB, respectively\n",
    "clustA_seq_list=[seq for seq in full_tree_aln if seq.id in clustA_list]\n",
    "clustB_seq_list=[seq for seq in full_tree_aln if seq.id in clustB_list]\n",
    "\n",
    "# reformat into MSA\n",
    "clustA_aln=MultipleSeqAlignment(clustA_seq_list)\n",
    "clustB_aln=MultipleSeqAlignment(clustB_seq_list)"
   ]
  },
  {
   "cell_type": "code",
   "execution_count": 8,
   "id": "099b547b",
   "metadata": {},
   "outputs": [],
   "source": [
    "# subset the full tree fasta file for everything outside of a cluster\n",
    "unclustered_seq_list=[seq for seq in full_tree_aln if seq.id not in clustered_samples]\n",
    "unclustered_aln=MultipleSeqAlignment(unclustered_seq_list)"
   ]
  },
  {
   "cell_type": "code",
   "execution_count": 17,
   "id": "7586a787",
   "metadata": {},
   "outputs": [
    {
     "data": {
      "text/plain": [
       "55"
      ]
     },
     "execution_count": 17,
     "metadata": {},
     "output_type": "execute_result"
    }
   ],
   "source": [
    "## write new MSAs to file:\n",
    "#!mkdir tree_subset_alignments\n",
    "SeqIO.write(clustA_aln, \"/n/data1/hms/dbmi/farhat/nikki/abscessus/0_NOTEBOOKS/014-2_tree_simulation_msprime/tree_subset_alignments/clustA_aln.fasta\", \"fasta\")\n",
    "SeqIO.write(clustB_aln, \"/n/data1/hms/dbmi/farhat/nikki/abscessus/0_NOTEBOOKS/014-2_tree_simulation_msprime/tree_subset_alignments/clustB_aln.fasta\", \"fasta\")\n",
    "SeqIO.write(unclustered_aln, \"/n/data1/hms/dbmi/farhat/nikki/abscessus/0_NOTEBOOKS/014-2_tree_simulation_msprime/tree_subset_alignments/unclustered_aln.fasta\", \"fasta\")"
   ]
  },
  {
   "cell_type": "code",
   "execution_count": 20,
   "id": "63f66d5a",
   "metadata": {},
   "outputs": [],
   "source": [
    "## snp dists for clusterA only:\n",
    "clustA_sparse_matrix, clustA_consensus, seq_names = calculate_snp_matrix(\"/n/data1/hms/dbmi/farhat/nikki/abscessus/0_NOTEBOOKS/014-2_tree_simulation_msprime/tree_subset_alignments/clustA_aln.fasta\")\n",
    "clustA_dist_matrix = calculate_distance_matrix(clustA_sparse_matrix, clustA_consensus, \"dist\", False)\n",
    "\n",
    "## snp dists for clusterB only:\n",
    "clustB_sparse_matrix, clustB_consensus, seq_names = calculate_snp_matrix(\"/n/data1/hms/dbmi/farhat/nikki/abscessus/0_NOTEBOOKS/014-2_tree_simulation_msprime/tree_subset_alignments/clustB_aln.fasta\")\n",
    "clustB_dist_matrix = calculate_distance_matrix(clustB_sparse_matrix, clustB_consensus, \"dist\", False)\n",
    "\n",
    "## snp dists for unclustered only:\n",
    "unclustered_sparse_matrix, unclustered_consensus, seq_names = calculate_snp_matrix(\"/n/data1/hms/dbmi/farhat/nikki/abscessus/0_NOTEBOOKS/014-2_tree_simulation_msprime/tree_subset_alignments/unclustered_aln.fasta\")\n",
    "unclustered_dist_matrix = calculate_distance_matrix(unclustered_sparse_matrix, unclustered_consensus, \"dist\", False)"
   ]
  },
  {
   "cell_type": "code",
   "execution_count": 26,
   "id": "2b3f6650",
   "metadata": {},
   "outputs": [],
   "source": [
    "np.fill_diagonal(clustA_dist_matrix, np.nan)\n",
    "np.fill_diagonal(clustB_dist_matrix, np.nan)\n",
    "np.fill_diagonal(unclustered_dist_matrix, np.nan)"
   ]
  },
  {
   "cell_type": "code",
   "execution_count": 31,
   "id": "82992409",
   "metadata": {},
   "outputs": [
    {
     "data": {
      "text/plain": [
       "56.95698618430423"
      ]
     },
     "execution_count": 31,
     "metadata": {},
     "output_type": "execute_result"
    }
   ],
   "source": [
    "clustA_mean_dist=np.nanmean(clustA_dist_matrix)\n",
    "clustA_mean_dist"
   ]
  },
  {
   "cell_type": "code",
   "execution_count": 32,
   "id": "0056ad76",
   "metadata": {},
   "outputs": [
    {
     "data": {
      "text/plain": [
       "53.713871635610765"
      ]
     },
     "execution_count": 32,
     "metadata": {},
     "output_type": "execute_result"
    }
   ],
   "source": [
    "clustB_mean_dist=np.nanmean(clustB_dist_matrix)\n",
    "clustB_mean_dist"
   ]
  },
  {
   "cell_type": "code",
   "execution_count": 33,
   "id": "ec30221c",
   "metadata": {},
   "outputs": [
    {
     "data": {
      "text/plain": [
       "5267.358249158249"
      ]
     },
     "execution_count": 33,
     "metadata": {},
     "output_type": "execute_result"
    }
   ],
   "source": [
    "unclustered_mean_dist=np.nanmean(unclustered_dist_matrix)\n",
    "unclustered_mean_dist"
   ]
  },
  {
   "cell_type": "code",
   "execution_count": 34,
   "id": "d1fe100c",
   "metadata": {},
   "outputs": [
    {
     "data": {
      "text/plain": [
       "0.010813197715079707"
      ]
     },
     "execution_count": 34,
     "metadata": {},
     "output_type": "execute_result"
    }
   ],
   "source": [
    "clustA_mean_dist/unclustered_mean_dist"
   ]
  },
  {
   "cell_type": "code",
   "execution_count": 35,
   "id": "1a0d8562",
   "metadata": {},
   "outputs": [
    {
     "data": {
      "text/plain": [
       "0.010197497321203569"
      ]
     },
     "execution_count": 35,
     "metadata": {},
     "output_type": "execute_result"
    }
   ],
   "source": [
    "clustB_mean_dist/unclustered_mean_dist"
   ]
  },
  {
   "cell_type": "code",
   "execution_count": null,
   "id": "5e39f6cc",
   "metadata": {},
   "outputs": [],
   "source": []
  }
 ],
 "metadata": {
  "kernelspec": {
   "display_name": "Python [conda env:msprime-env]",
   "language": "python",
   "name": "conda-env-msprime-env-py"
  },
  "language_info": {
   "codemirror_mode": {
    "name": "ipython",
    "version": 3
   },
   "file_extension": ".py",
   "mimetype": "text/x-python",
   "name": "python",
   "nbconvert_exporter": "python",
   "pygments_lexer": "ipython3",
   "version": "3.9.7"
  }
 },
 "nbformat": 4,
 "nbformat_minor": 5
}
