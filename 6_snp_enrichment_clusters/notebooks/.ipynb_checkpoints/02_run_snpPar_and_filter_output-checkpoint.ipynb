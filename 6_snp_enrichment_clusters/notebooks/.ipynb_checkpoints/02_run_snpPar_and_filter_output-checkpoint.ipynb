{
 "cells": [
  {
   "cell_type": "code",
   "execution_count": 1,
   "id": "f3b17067",
   "metadata": {},
   "outputs": [
    {
     "data": {
      "text/html": [
       "<style>.container { width:100% !important; }</style>"
      ],
      "text/plain": [
       "<IPython.core.display.HTML object>"
      ]
     },
     "metadata": {},
     "output_type": "display_data"
    }
   ],
   "source": [
    "from IPython.core.display import display, HTML\n",
    "display(HTML(\"<style>.container { width:100% !important; }</style>\"))"
   ]
  },
  {
   "cell_type": "markdown",
   "id": "933ba16a",
   "metadata": {},
   "source": [
    "Purpose: Re-run snppar after fixing the node labeling issue to get homoplasy data from both my masked (recombination free) and unmasked (with recombination) alignments. "
   ]
  },
  {
   "cell_type": "markdown",
   "id": "e15587fe",
   "metadata": {},
   "source": [
    "### 1. Run SnpPar"
   ]
  },
  {
   "cell_type": "markdown",
   "id": "16a32e95",
   "metadata": {},
   "source": [
    "#### MAB:"
   ]
  },
  {
   "cell_type": "code",
   "execution_count": 1,
   "id": "e65f675a",
   "metadata": {},
   "outputs": [
    {
     "name": "stdout",
     "output_type": "stream",
     "text": [
      "Submitted batch job 36222129\n"
     ]
    }
   ],
   "source": [
    "!sbatch ../scripts/mab_snppar_masked.sh"
   ]
  },
  {
   "cell_type": "code",
   "execution_count": 2,
   "id": "b608e365",
   "metadata": {},
   "outputs": [
    {
     "name": "stdout",
     "output_type": "stream",
     "text": [
      "Submitted batch job 36222131\r\n"
     ]
    }
   ],
   "source": [
    "!sbatch ../scripts/mab_snppar_unmasked.sh"
   ]
  },
  {
   "cell_type": "markdown",
   "id": "22883063",
   "metadata": {},
   "source": [
    "#### MAS:"
   ]
  },
  {
   "cell_type": "code",
   "execution_count": 3,
   "id": "4b7c91ae",
   "metadata": {},
   "outputs": [
    {
     "name": "stdout",
     "output_type": "stream",
     "text": [
      "Submitted batch job 36222133\r\n"
     ]
    }
   ],
   "source": [
    "!sbatch ../scripts/mas_snppar_masked.sh"
   ]
  },
  {
   "cell_type": "code",
   "execution_count": 4,
   "id": "d20be73b",
   "metadata": {},
   "outputs": [
    {
     "name": "stdout",
     "output_type": "stream",
     "text": [
      "Submitted batch job 36222135\r\n"
     ]
    }
   ],
   "source": [
    "!sbatch ../scripts/mas_snppar_unmasked.sh"
   ]
  },
  {
   "cell_type": "markdown",
   "id": "c2a82793",
   "metadata": {},
   "source": [
    "#### BOL:"
   ]
  },
  {
   "cell_type": "code",
   "execution_count": 1,
   "id": "c9b1dfd6",
   "metadata": {},
   "outputs": [
    {
     "name": "stdout",
     "output_type": "stream",
     "text": [
      "Submitted batch job 36127832\r\n"
     ]
    }
   ],
   "source": [
    "!sbatch ../scripts/bol_snppar_masked.sh"
   ]
  },
  {
   "cell_type": "code",
   "execution_count": 5,
   "id": "db458a48",
   "metadata": {},
   "outputs": [
    {
     "name": "stdout",
     "output_type": "stream",
     "text": [
      "Submitted batch job 36222142\r\n"
     ]
    }
   ],
   "source": [
    "!sbatch ../scripts/bol_snppar_unmasked.sh"
   ]
  },
  {
   "cell_type": "code",
   "execution_count": null,
   "id": "adf504f8",
   "metadata": {},
   "outputs": [],
   "source": []
  }
 ],
 "metadata": {
  "kernelspec": {
   "display_name": "Python [conda env:homoplasy]",
   "language": "python",
   "name": "conda-env-homoplasy-py"
  },
  "language_info": {
   "codemirror_mode": {
    "name": "ipython",
    "version": 3
   },
   "file_extension": ".py",
   "mimetype": "text/x-python",
   "name": "python",
   "nbconvert_exporter": "python",
   "pygments_lexer": "ipython3",
   "version": "3.6.13"
  }
 },
 "nbformat": 4,
 "nbformat_minor": 5
}
