{
 "cells": [
  {
   "cell_type": "code",
   "execution_count": 1,
   "id": "37053f3f",
   "metadata": {},
   "outputs": [
    {
     "data": {
      "text/html": [
       "<style>.container { width:100% !important; }</style>"
      ],
      "text/plain": [
       "<IPython.core.display.HTML object>"
      ]
     },
     "metadata": {},
     "output_type": "display_data"
    }
   ],
   "source": [
    "from IPython.core.display import display, HTML\n",
    "display(HTML(\"<style>.container { width:100% !important; }</style>\"))"
   ]
  },
  {
   "cell_type": "code",
   "execution_count": 2,
   "id": "66fdcb2a",
   "metadata": {},
   "outputs": [],
   "source": [
    "# note ete3 is not fully compatible with python 3.7. I was able to use it still in my base environment, \n",
    "# but was unable to install it in the homoplasy environment. In the future I may need to use ete3 in a separate\n",
    "# environment with an earlier version of python. \n",
    "from ete3 import Tree\n",
    "from Bio import AlignIO\n",
    "from cyvcf2 import VCF"
   ]
  },
  {
   "cell_type": "markdown",
   "id": "c56e4a43",
   "metadata": {},
   "source": [
    "###### Purpose: \n",
    "prepare input data for using SNPPar according to requirements described here: https://github.com/d-j-e/SNPPar\n",
    "\n",
    "20210508NC"
   ]
  },
  {
   "cell_type": "markdown",
   "id": "e064d1dd",
   "metadata": {},
   "source": [
    "### 1. [Get full-length recombination-free alignment](#1)\n",
    "### 2. [Get list of SNP positions](#2)\n",
    "### 3. [Use SNP sites to get SNP alignments](#3)\n",
    "### 4. [Convert residual Ns to -s](#4)"
   ]
  },
  {
   "cell_type": "markdown",
   "id": "bdca11eb",
   "metadata": {},
   "source": [
    "<a id=\"1\"></a>\n",
    "### 1. Get a full length, recombination-free alignment\n",
    "\n",
    "Currently I only have the standard output of Gubbins, which is a recombination-free SNP alignment. Because I want to know the position of each SNP in the alignment, I need to start with a full-length alignment, but I also want to exclude recombination events. Here I use a script from Nick Croucher to use mask the full length alignment using the Gubbins output. Script can be found here: https://github.com/sanger-pathogens/gubbins/tree/masking_aln\n",
    "\n",
    "\n"
   ]
  },
  {
   "cell_type": "code",
   "execution_count": 3,
   "id": "1dda820c",
   "metadata": {},
   "outputs": [
    {
     "name": "stdout",
     "output_type": "stream",
     "text": [
      "usage: mask_gubbins_aln [-h] --aln ALN --gff GFF --out OUT [--out-fmt OUT_FMT]\r\n",
      "                        [--missing-char MISSING_CHAR]\r\n",
      "\r\n",
      "Mask recombinant regions detected by Gubbins from the input alignment\r\n",
      "\r\n",
      "optional arguments:\r\n",
      "  -h, --help            show this help message and exit\r\n",
      "  --aln ALN             Input alignment (FASTA format)\r\n",
      "  --gff GFF             GFF of recombinant regions detected by Gubbins\r\n",
      "  --out OUT             Output file name\r\n",
      "  --out-fmt OUT_FMT     Format of output alignment\r\n",
      "  --missing-char MISSING_CHAR\r\n",
      "                        Character used to replace recombinant sequence\r\n"
     ]
    }
   ],
   "source": [
    "!python3 ../scripts/mask_gubbins_aln.py -h"
   ]
  },
  {
   "cell_type": "code",
   "execution_count": 4,
   "id": "174a7d88",
   "metadata": {},
   "outputs": [],
   "source": [
    "mas_input_alignment='/n/data1/hms/dbmi/farhat/nikki/abscessus/fasta_for_gubbins/mas_MSA_for_Gubbins_w_outgroup_ref.fasta'\n",
    "bol_input_alignment='/n/data1/hms/dbmi/farhat/nikki/abscessus/fasta_for_gubbins/bol_MSA_for_Gubbins_w_outgroup_ref.fasta'"
   ]
  },
  {
   "cell_type": "code",
   "execution_count": 5,
   "id": "a410e253",
   "metadata": {},
   "outputs": [],
   "source": [
    "mas_gubbins_gff='/n/data1/hms/dbmi/farhat/nikki/abscessus/gubbins/mas/raxml/Gubbins_run1/mas_raxml.recombination_predictions.gff'\n",
    "bol_gubbins_gff='/n/data1/hms/dbmi/farhat/nikki/abscessus/gubbins/bol/raxml/gubbins_run2_rem_lowq/bol_raxml_run2.recombination_predictions.gff'"
   ]
  },
  {
   "cell_type": "code",
   "execution_count": 6,
   "id": "43caab4e",
   "metadata": {},
   "outputs": [],
   "source": [
    "MAS_full_masked_aln_for_snpPar='../vars/mas_fullLengthAln_gubbinsMasked_for_snpPar_20210519.fasta'\n",
    "BOL_full_masked_aln_for_snpPar='../vars/bol_fullLengthAln_gubbinsMasked_for_snpPar_20210519.fasta'"
   ]
  },
  {
   "cell_type": "code",
   "execution_count": 8,
   "id": "f8ce6591",
   "metadata": {},
   "outputs": [],
   "source": [
    "#!python3 ../scripts/mask_gubbins_aln.py --aln $bol_input_alignment --gff $bol_gubbins_gff --out $BOL_full_masked_aln_for_snpPar --missing-char '-' --out-fmt 'fasta'"
   ]
  },
  {
   "cell_type": "code",
   "execution_count": 57,
   "id": "06ea6442",
   "metadata": {},
   "outputs": [],
   "source": [
    "#!python3 ../scripts/mask_gubbins_aln.py --aln $mas_input_alignment --gff $mas_gubbins_gff --out $MAS_full_masked_aln_for_snpPar --missing-char '-' --out-fmt 'fasta'"
   ]
  },
  {
   "cell_type": "markdown",
   "id": "f32a3b90",
   "metadata": {},
   "source": [
    "** Note: in this masked alignment, Ns represent sites I masked previously because of quality issues, and - represent recombination. This is the opposite of how Gubbins outputs its alignment, so be sure to account for that later when tabulating the % of the genome that is predicted recombination regions."
   ]
  },
  {
   "cell_type": "markdown",
   "id": "64efd0f1",
   "metadata": {},
   "source": [
    "<a id=\"2\"></a>\n",
    "## 2. Use SNP sites to generate VCFs from the SNP data and get the SNP positions"
   ]
  },
  {
   "cell_type": "markdown",
   "id": "9c2231bc",
   "metadata": {},
   "source": [
    "### First make sure the isolates in the tree match the isolates in the fasta file:"
   ]
  },
  {
   "cell_type": "markdown",
   "id": "6026d923",
   "metadata": {},
   "source": [
    "Now I have two alignments, input alignment and full_masked_aln_for_snpPar"
   ]
  },
  {
   "cell_type": "code",
   "execution_count": 10,
   "id": "244381ed",
   "metadata": {},
   "outputs": [],
   "source": [
    "mas_tree_path='/n/data1/hms/dbmi/farhat/nikki/abscessus/0_NOTEBOOKS/working_trees/mas/mas_iqtree_noOutgroup_ROOTED.tree'\n",
    "bol_tree_path='/n/data1/hms/dbmi/farhat/nikki/abscessus/0_NOTEBOOKS/working_trees/bol/bol_iqtree_noOutgroup_ROOTED.tree'"
   ]
  },
  {
   "cell_type": "code",
   "execution_count": 11,
   "id": "1ed5e077",
   "metadata": {},
   "outputs": [],
   "source": [
    "# read in the tree\n",
    "mas_tree=Tree(mas_tree_path, format=0)\n",
    "bol_tree=Tree(bol_tree_path, format=0)\n"
   ]
  },
  {
   "cell_type": "markdown",
   "id": "650b7488",
   "metadata": {},
   "source": [
    "#### [2.1] MAS:"
   ]
  },
  {
   "cell_type": "code",
   "execution_count": 20,
   "id": "31a58913",
   "metadata": {},
   "outputs": [],
   "source": [
    "# get a list of all the isolates in the tree\n",
    "mas_isolates_in_tree=[l.name for l in mas_tree.get_leaves()]"
   ]
  },
  {
   "cell_type": "code",
   "execution_count": 21,
   "id": "ec80f4a5",
   "metadata": {},
   "outputs": [
    {
     "data": {
      "text/plain": [
       "169"
      ]
     },
     "execution_count": 21,
     "metadata": {},
     "output_type": "execute_result"
    }
   ],
   "source": [
    "len(mas_isolates_in_tree)"
   ]
  },
  {
   "cell_type": "code",
   "execution_count": 22,
   "id": "83ece309",
   "metadata": {},
   "outputs": [],
   "source": [
    "# write isolate list to a text file\n",
    "# with open('../vars/isolates_in_mas_tree.txt', 'w') as filehandle:\n",
    "#     for isolate in mas_isolates_in_tree:\n",
    "#         filehandle.write('%s\\n' % isolate)"
   ]
  },
  {
   "cell_type": "code",
   "execution_count": 19,
   "id": "9cb92cc3",
   "metadata": {},
   "outputs": [],
   "source": [
    "mas_input_aln_filtered='/n/data1/hms/dbmi/farhat/nikki/abscessus/0_NOTEBOOKS/010_homoplasy/vars/mas_unmasked_msa_treeIsolatesFiltered.fasta'\n",
    "mas_masked_aln_filtered='/n/data1/hms/dbmi/farhat/nikki/abscessus/0_NOTEBOOKS/010_homoplasy/vars/mas_masked_msa_treeIsolatesFiltered.fasta'"
   ]
  },
  {
   "cell_type": "markdown",
   "id": "8c7b299a",
   "metadata": {},
   "source": [
    "2.1.A. Filter the unmasked alignment:"
   ]
  },
  {
   "cell_type": "code",
   "execution_count": 24,
   "id": "5f5eb269",
   "metadata": {},
   "outputs": [],
   "source": [
    "#use seqkit to subset the fasta file\n",
    "#!seqkit grep -f ../vars/isolates_in_mas_tree.txt $mas_input_alignment > $mas_input_aln_filtered"
   ]
  },
  {
   "cell_type": "code",
   "execution_count": 25,
   "id": "0342f9fb",
   "metadata": {},
   "outputs": [],
   "source": [
    "# double check I have the right number of sequences in the fasta file\n",
    "#!grep \">\" $mas_input_aln_filtered | wc -l"
   ]
  },
  {
   "cell_type": "markdown",
   "id": "c12c42c1",
   "metadata": {},
   "source": [
    "2.1.B. Filter the recombination free alignment:"
   ]
  },
  {
   "cell_type": "code",
   "execution_count": 26,
   "id": "65c69d2b",
   "metadata": {},
   "outputs": [],
   "source": [
    "#use seqkit to subset the fasta file\n",
    "#!seqkit grep -f ../vars/isolates_in_mas_tree.txt $MAS_full_masked_aln_for_snpPar > $mas_masked_aln_filtered"
   ]
  },
  {
   "cell_type": "code",
   "execution_count": 27,
   "id": "114c215e",
   "metadata": {},
   "outputs": [],
   "source": [
    "# double check I have the right number of sequences in the fasta file\n",
    "#!grep \">\" $mas_masked_aln_filtered | wc -l"
   ]
  },
  {
   "cell_type": "markdown",
   "id": "17d848b5",
   "metadata": {},
   "source": [
    "#### [2.2] BOL:"
   ]
  },
  {
   "cell_type": "code",
   "execution_count": 12,
   "id": "0211f8c3",
   "metadata": {},
   "outputs": [],
   "source": [
    "bol_isolates_in_tree=[l.name for l in bol_tree.get_leaves()]\n",
    "# write isolate list to a text file\n",
    "# with open('../vars/isolates_in_bol_tree.txt', 'w') as filehandle:\n",
    "#     for isolate in bol_isolates_in_tree:\n",
    "#         filehandle.write('%s\\n' % isolate)"
   ]
  },
  {
   "cell_type": "code",
   "execution_count": 13,
   "id": "271b64a9",
   "metadata": {},
   "outputs": [],
   "source": [
    "bol_input_aln_filtered='/n/data1/hms/dbmi/farhat/nikki/abscessus/0_NOTEBOOKS/010_homoplasy/vars/bol_unmasked_msa_treeIsolatesFiltered.fasta'\n",
    "bol_masked_aln_filtered='/n/data1/hms/dbmi/farhat/nikki/abscessus/0_NOTEBOOKS/010_homoplasy/vars/bol_masked_msa_treeIsolatesFiltered.fasta'"
   ]
  },
  {
   "cell_type": "markdown",
   "id": "312389b6",
   "metadata": {},
   "source": [
    "2.2.A. Filter the unmasked alignment:"
   ]
  },
  {
   "cell_type": "code",
   "execution_count": 14,
   "id": "e845f721",
   "metadata": {},
   "outputs": [],
   "source": [
    "# #use seqkit to subset the fasta file\n",
    "# !seqkit grep -f ../vars/isolates_in_bol_tree.txt $bol_input_alignment > $bol_input_aln_filtered\n",
    "# # double check I have the right number of sequences in the fasta file\n",
    "# !grep \">\" $bol_input_aln_filtered | wc -l"
   ]
  },
  {
   "cell_type": "markdown",
   "id": "a2c62593",
   "metadata": {},
   "source": [
    "2.1.B. Filter the recombination free alignment:"
   ]
  },
  {
   "cell_type": "code",
   "execution_count": 15,
   "id": "ae856fd8",
   "metadata": {},
   "outputs": [
    {
     "name": "stdout",
     "output_type": "stream",
     "text": [
      "59\r\n"
     ]
    }
   ],
   "source": [
    "#use seqkit to subset the fasta file\n",
    "!seqkit grep -f ../vars/isolates_in_bol_tree.txt $BOL_full_masked_aln_for_snpPar > $bol_masked_aln_filtered\n",
    "# double check I have the right number of sequences in the fasta file\n",
    "!grep \">\" $bol_masked_aln_filtered | wc -l"
   ]
  },
  {
   "cell_type": "markdown",
   "id": "4be91675",
   "metadata": {},
   "source": [
    "### Use snp-sites to get an output VCF:"
   ]
  },
  {
   "cell_type": "markdown",
   "id": "702ca570",
   "metadata": {},
   "source": [
    "##### [MAS]: "
   ]
  },
  {
   "cell_type": "markdown",
   "id": "8bafd0e3",
   "metadata": {},
   "source": [
    "A. Unmasked alignment:"
   ]
  },
  {
   "cell_type": "code",
   "execution_count": 20,
   "id": "35d7b216",
   "metadata": {},
   "outputs": [],
   "source": [
    "mas_unmasked_vcf=\"/n/data1/hms/dbmi/farhat/nikki/abscessus/0_NOTEBOOKS/010_homoplasy/vars/mas_snpSites_unmasked.vcf\"\n",
    "!snp-sites -v -o $mas_unmasked_vcf $mas_input_aln_filtered"
   ]
  },
  {
   "cell_type": "markdown",
   "id": "78f417d9",
   "metadata": {},
   "source": [
    "B. Masked alignment:"
   ]
  },
  {
   "cell_type": "code",
   "execution_count": 22,
   "id": "1e6d1d28",
   "metadata": {},
   "outputs": [],
   "source": [
    "mas_masked_vcf=\"/n/data1/hms/dbmi/farhat/nikki/abscessus/0_NOTEBOOKS/010_homoplasy/vars/mab_snpSites_masked.vcf\"\n",
    "!snp-sites -v -o $mas_masked_vcf $mas_masked_aln_filtered "
   ]
  },
  {
   "cell_type": "markdown",
   "id": "fb8a475d",
   "metadata": {},
   "source": [
    "##### [BOL]:"
   ]
  },
  {
   "cell_type": "code",
   "execution_count": 24,
   "id": "d2e9acf6",
   "metadata": {},
   "outputs": [],
   "source": [
    "bol_unmasked_vcf=\"/n/data1/hms/dbmi/farhat/nikki/abscessus/0_NOTEBOOKS/010_homoplasy/vars/bol_snpSites_unmasked.vcf\"\n",
    "!snp-sites -v -o $bol_unmasked_vcf $bol_input_aln_filtered"
   ]
  },
  {
   "cell_type": "code",
   "execution_count": 25,
   "id": "e8086ddf",
   "metadata": {},
   "outputs": [],
   "source": [
    "bol_masked_vcf=\"/n/data1/hms/dbmi/farhat/nikki/abscessus/0_NOTEBOOKS/010_homoplasy/vars/bol_snpSites_masked.vcf\"\n",
    "!snp-sites -v -o $bol_masked_vcf $bol_masked_aln_filtered "
   ]
  },
  {
   "cell_type": "markdown",
   "id": "af3906e6",
   "metadata": {},
   "source": [
    "### parse VCF for all the SNP positions"
   ]
  },
  {
   "cell_type": "markdown",
   "id": "6fb16836",
   "metadata": {},
   "source": [
    "Get snp positions from unmasked alignment:"
   ]
  },
  {
   "cell_type": "code",
   "execution_count": 16,
   "id": "cf0cf305",
   "metadata": {},
   "outputs": [],
   "source": [
    "#pip install cyvcf2"
   ]
  },
  {
   "cell_type": "markdown",
   "id": "d6142b3d",
   "metadata": {},
   "source": [
    "##### [MAS]:"
   ]
  },
  {
   "cell_type": "code",
   "execution_count": 27,
   "id": "ffcf078f",
   "metadata": {},
   "outputs": [],
   "source": [
    "mas_snp_pos=[]\n",
    "mas_v1=VCF(mas_unmasked_vcf)\n",
    "for v in mas_v1:\n",
    "    mas_snp_pos.append(v.POS)\n",
    "    \n",
    "# convert into a position file \n",
    "with open('../vars/mas_unmasked_snp_positions.txt', 'w') as filehandle:\n",
    "    for pos in mas_snp_pos:\n",
    "        filehandle.write('%s\\n' % pos)"
   ]
  },
  {
   "cell_type": "code",
   "execution_count": 28,
   "id": "19f904c1",
   "metadata": {},
   "outputs": [
    {
     "data": {
      "text/plain": [
       "163056"
      ]
     },
     "execution_count": 28,
     "metadata": {},
     "output_type": "execute_result"
    }
   ],
   "source": [
    "len(mas_snp_pos)"
   ]
  },
  {
   "cell_type": "code",
   "execution_count": 29,
   "id": "31ea14bb",
   "metadata": {},
   "outputs": [],
   "source": [
    "mas_snp_pos_masked=[]\n",
    "mas_v2=VCF(mas_masked_vcf)\n",
    "for v in mas_v2:\n",
    "    mas_snp_pos_masked.append(v.POS)\n",
    "    \n",
    "# convert into a position file \n",
    "with open('../vars/mas_masked_snp_positions.txt', 'w') as filehandle:\n",
    "    for pos in mas_snp_pos_masked:\n",
    "        filehandle.write('%s\\n' % pos)"
   ]
  },
  {
   "cell_type": "code",
   "execution_count": 30,
   "id": "0d0d072a",
   "metadata": {},
   "outputs": [
    {
     "data": {
      "text/plain": [
       "41718"
      ]
     },
     "execution_count": 30,
     "metadata": {},
     "output_type": "execute_result"
    }
   ],
   "source": [
    "len(mas_snp_pos_masked)"
   ]
  },
  {
   "cell_type": "markdown",
   "id": "8a998a10",
   "metadata": {},
   "source": [
    "##### [BOL]:"
   ]
  },
  {
   "cell_type": "code",
   "execution_count": 31,
   "id": "30443119",
   "metadata": {},
   "outputs": [],
   "source": [
    "bol_snp_pos=[]\n",
    "bol_v1=VCF(bol_unmasked_vcf)\n",
    "for v in bol_v1:\n",
    "    bol_snp_pos.append(v.POS)\n",
    "    \n",
    "# convert into a position file \n",
    "with open('../vars/bol_unmasked_snp_positions.txt', 'w') as filehandle:\n",
    "    for pos in bol_snp_pos:\n",
    "        filehandle.write('%s\\n' % pos)"
   ]
  },
  {
   "cell_type": "code",
   "execution_count": 32,
   "id": "149a118d",
   "metadata": {},
   "outputs": [
    {
     "data": {
      "text/plain": [
       "113880"
      ]
     },
     "execution_count": 32,
     "metadata": {},
     "output_type": "execute_result"
    }
   ],
   "source": [
    "len(bol_snp_pos)"
   ]
  },
  {
   "cell_type": "code",
   "execution_count": 33,
   "id": "31ff69f9",
   "metadata": {},
   "outputs": [],
   "source": [
    "bol_snp_pos_masked=[]\n",
    "bol_v2=VCF(bol_masked_vcf)\n",
    "for v in bol_v2:\n",
    "    bol_snp_pos_masked.append(v.POS)\n",
    "    \n",
    "# convert into a position file \n",
    "with open('../vars/bol_masked_snp_positions.txt', 'w') as filehandle:\n",
    "    for pos in bol_snp_pos_masked:\n",
    "        filehandle.write('%s\\n' % pos)"
   ]
  },
  {
   "cell_type": "code",
   "execution_count": 34,
   "id": "e336822a",
   "metadata": {},
   "outputs": [
    {
     "data": {
      "text/plain": [
       "56914"
      ]
     },
     "execution_count": 34,
     "metadata": {},
     "output_type": "execute_result"
    }
   ],
   "source": [
    "len(bol_snp_pos_masked)"
   ]
  },
  {
   "cell_type": "markdown",
   "id": "7260aa8c",
   "metadata": {},
   "source": [
    "<a id=\"3\"></a>\n",
    "## 3. Use SNP sites to get SNP alignments"
   ]
  },
  {
   "cell_type": "markdown",
   "id": "6abf6bef",
   "metadata": {},
   "source": [
    "### 3.1 MAS"
   ]
  },
  {
   "cell_type": "markdown",
   "id": "d2018596",
   "metadata": {},
   "source": [
    "3.1.A. get snps from the unmasked MAS alignment:"
   ]
  },
  {
   "cell_type": "code",
   "execution_count": 36,
   "id": "073aaa28",
   "metadata": {},
   "outputs": [
    {
     "data": {
      "text/plain": [
       "163056"
      ]
     },
     "execution_count": 36,
     "metadata": {},
     "output_type": "execute_result"
    }
   ],
   "source": [
    "mas_unmasked_snp_alignment=\"/n/data1/hms/dbmi/farhat/nikki/abscessus/0_NOTEBOOKS/010_homoplasy/vars/mas_unmasked_snpAln.fasta\"\n",
    "!snp-sites -o $mas_unmasked_snp_alignment $mas_input_aln_filtered"
   ]
  },
  {
   "cell_type": "code",
   "execution_count": 38,
   "id": "536c2b37",
   "metadata": {},
   "outputs": [
    {
     "data": {
      "text/plain": [
       "163056"
      ]
     },
     "execution_count": 38,
     "metadata": {},
     "output_type": "execute_result"
    }
   ],
   "source": [
    "# check that the alignment length matches the number of snp positions above:\n",
    "mas_aln_unmasked=AlignIO.read(mas_unmasked_snp_alignment, \"fasta\")\n",
    "len(mas_aln_unmasked[0])"
   ]
  },
  {
   "cell_type": "markdown",
   "id": "98cfda4f",
   "metadata": {},
   "source": [
    "3.1.B. get snps from the masked MAS alignment:"
   ]
  },
  {
   "cell_type": "code",
   "execution_count": 40,
   "id": "e1a8b2e9",
   "metadata": {},
   "outputs": [],
   "source": [
    "mas_masked_snp_alignment=\"/n/data1/hms/dbmi/farhat/nikki/abscessus/0_NOTEBOOKS/010_homoplasy/vars/mas_masked_snpAln.fasta\"\n",
    "!snp-sites -o $mas_masked_snp_alignment $mas_masked_aln_filtered"
   ]
  },
  {
   "cell_type": "code",
   "execution_count": 41,
   "id": "084cc664",
   "metadata": {},
   "outputs": [
    {
     "data": {
      "text/plain": [
       "41718"
      ]
     },
     "execution_count": 41,
     "metadata": {},
     "output_type": "execute_result"
    }
   ],
   "source": [
    "# check that the alignment length matches the number of snp positions above:\n",
    "mas_aln_masked=AlignIO.read(mas_masked_snp_alignment, \"fasta\")\n",
    "len(mas_aln_masked[0])"
   ]
  },
  {
   "cell_type": "markdown",
   "id": "a50f976b",
   "metadata": {},
   "source": [
    "### 3.2 BOL\n"
   ]
  },
  {
   "cell_type": "markdown",
   "id": "3ce91053",
   "metadata": {},
   "source": [
    "3.2.A. get snps from the unmasked BOL alignment:"
   ]
  },
  {
   "cell_type": "code",
   "execution_count": 42,
   "id": "227c5673",
   "metadata": {},
   "outputs": [],
   "source": [
    "bol_unmasked_snp_alignment=\"/n/data1/hms/dbmi/farhat/nikki/abscessus/0_NOTEBOOKS/010_homoplasy/vars/bol_unmasked_snpAln.fasta\"\n",
    "!snp-sites -o $bol_unmasked_snp_alignment $bol_input_aln_filtered"
   ]
  },
  {
   "cell_type": "code",
   "execution_count": 43,
   "id": "ed3c25b1",
   "metadata": {},
   "outputs": [
    {
     "data": {
      "text/plain": [
       "113880"
      ]
     },
     "execution_count": 43,
     "metadata": {},
     "output_type": "execute_result"
    }
   ],
   "source": [
    "# check that the alignment length matches the number of snp positions above:\n",
    "bol_aln_unmasked=AlignIO.read(bol_unmasked_snp_alignment, \"fasta\")\n",
    "len(bol_aln_unmasked[0])"
   ]
  },
  {
   "cell_type": "markdown",
   "id": "3dacb35a",
   "metadata": {},
   "source": [
    "3.2.B. get snps from the masked BOL alignment:"
   ]
  },
  {
   "cell_type": "code",
   "execution_count": 44,
   "id": "1f471412",
   "metadata": {},
   "outputs": [],
   "source": [
    "bol_masked_snp_alignment=\"/n/data1/hms/dbmi/farhat/nikki/abscessus/0_NOTEBOOKS/010_homoplasy/vars/bol_masked_snpAln.fasta\"\n",
    "!snp-sites -o $bol_masked_snp_alignment $bol_masked_aln_filtered"
   ]
  },
  {
   "cell_type": "code",
   "execution_count": 45,
   "id": "12d6df45",
   "metadata": {},
   "outputs": [
    {
     "data": {
      "text/plain": [
       "56914"
      ]
     },
     "execution_count": 45,
     "metadata": {},
     "output_type": "execute_result"
    }
   ],
   "source": [
    "# check that the alignment length matches the number of snp positions above:\n",
    "bol_aln_masked=AlignIO.read(bol_masked_snp_alignment, \"fasta\")\n",
    "len(bol_aln_masked[0])"
   ]
  },
  {
   "cell_type": "markdown",
   "id": "ea03a2fe",
   "metadata": {},
   "source": [
    "<a id=\"4\"></a>\n",
    "### 4. Convert remaining N to -"
   ]
  },
  {
   "cell_type": "markdown",
   "id": "adc66d9c",
   "metadata": {},
   "source": [
    "SNPPar wants an input fasta with all missing or ambiguous sites to be - but my alignments still have some Ns in them. Here I convert the 'N's to '-'s using the script convert_aln_char.py"
   ]
  },
  {
   "cell_type": "code",
   "execution_count": 27,
   "id": "78a74f37",
   "metadata": {},
   "outputs": [
    {
     "name": "stdout",
     "output_type": "stream",
     "text": [
      "usage: convert_aln_char [-h] --in_aln IN_ALN --out_aln OUT_ALN --old_char\r\n",
      "                        OLD_CHAR --new_char NEW_CHAR\r\n",
      "\r\n",
      "Remove all instances of one characterfrom an alignment and replace them with a\r\n",
      "new character\r\n",
      "\r\n",
      "optional arguments:\r\n",
      "  -h, --help           show this help message and exit\r\n",
      "  --in_aln IN_ALN      Input alignment (FASTA format)\r\n",
      "  --out_aln OUT_ALN    Output file name (FASTA format)\r\n",
      "  --old_char OLD_CHAR  character we want to replace\r\n",
      "  --new_char NEW_CHAR  character we want to insert instead of --from_char\r\n"
     ]
    }
   ],
   "source": [
    "!python3 ../scripts/convert_aln_char.py -h"
   ]
  },
  {
   "cell_type": "code",
   "execution_count": 46,
   "id": "62fafaae",
   "metadata": {},
   "outputs": [],
   "source": [
    "mas_unmasked_snp_aln_forSnpPar=\"/n/data1/hms/dbmi/farhat/nikki/abscessus/0_NOTEBOOKS/010_homoplasy/vars/mas_unmasked_snpAln_forSnpPar.fasta\"\n",
    "!python3 ../scripts/convert_aln_char.py --in_aln $mas_unmasked_snp_alignment --out_aln $mas_unmasked_snp_aln_forSnpPar --old_char 'N' --new_char '-' "
   ]
  },
  {
   "cell_type": "code",
   "execution_count": 47,
   "id": "ff7ef1dd",
   "metadata": {},
   "outputs": [],
   "source": [
    "mas_masked_snp_aln_forSnpPar=\"/n/data1/hms/dbmi/farhat/nikki/abscessus/0_NOTEBOOKS/010_homoplasy/vars/mas_masked_snpAln_forSnpPar.fasta\"\n",
    "!python3 ../scripts/convert_aln_char.py --in_aln $mas_masked_snp_alignment --out_aln $mas_masked_snp_aln_forSnpPar --old_char 'N' --new_char '-' "
   ]
  },
  {
   "cell_type": "code",
   "execution_count": 48,
   "id": "957e4a3d",
   "metadata": {},
   "outputs": [],
   "source": [
    "bol_unmasked_snp_aln_forSnpPar=\"/n/data1/hms/dbmi/farhat/nikki/abscessus/0_NOTEBOOKS/010_homoplasy/vars/bol_unmasked_snpAln_forSnpPar.fasta\"\n",
    "!python3 ../scripts/convert_aln_char.py --in_aln $bol_unmasked_snp_alignment --out_aln $bol_unmasked_snp_aln_forSnpPar --old_char 'N' --new_char '-' "
   ]
  },
  {
   "cell_type": "code",
   "execution_count": 49,
   "id": "ce1d4b32",
   "metadata": {},
   "outputs": [],
   "source": [
    "bol_masked_snp_aln_forSnpPar=\"/n/data1/hms/dbmi/farhat/nikki/abscessus/0_NOTEBOOKS/010_homoplasy/vars/bol_masked_snpAln_forSnpPar.fasta\"\n",
    "!python3 ../scripts/convert_aln_char.py --in_aln $bol_masked_snp_alignment --out_aln $bol_masked_snp_aln_forSnpPar --old_char 'N' --new_char '-' "
   ]
  },
  {
   "cell_type": "markdown",
   "id": "b12216a4",
   "metadata": {},
   "source": [
    "#### 5. convert to MFASTA format (one entry per 2 lines)"
   ]
  },
  {
   "cell_type": "code",
   "execution_count": 51,
   "id": "a9aaf957",
   "metadata": {},
   "outputs": [],
   "source": [
    "mas_masked_snpAln_unwrapped=\"/n/data1/hms/dbmi/farhat/nikki/abscessus/0_NOTEBOOKS/010_homoplasy/vars/mas_masked_snpAln_unwrapped.fasta\"\n",
    "mas_unmasked_snpAln_unwrapped=\"/n/data1/hms/dbmi/farhat/nikki/abscessus/0_NOTEBOOKS/010_homoplasy/vars/mas_unmasked_snpAln_unwrapped.fasta\"\n",
    "\n",
    "bol_masked_snpAln_unwrapped=\"/n/data1/hms/dbmi/farhat/nikki/abscessus/0_NOTEBOOKS/010_homoplasy/vars/bol_masked_snpAln_unwrapped.fasta\"\n",
    "bol_unmasked_snpAln_unwrapped=\"/n/data1/hms/dbmi/farhat/nikki/abscessus/0_NOTEBOOKS/010_homoplasy/vars/bol_unmasked_snpAln_unwrapped.fasta\""
   ]
  },
  {
   "cell_type": "code",
   "execution_count": 52,
   "id": "2d05316e",
   "metadata": {},
   "outputs": [],
   "source": [
    "!seqkit seq -w 0 $mas_masked_snp_aln_forSnpPar > $mas_masked_snpAln_unwrapped"
   ]
  },
  {
   "cell_type": "code",
   "execution_count": 53,
   "id": "3090736c",
   "metadata": {},
   "outputs": [],
   "source": [
    "!seqkit seq -w 0 $mas_unmasked_snp_aln_forSnpPar > $mas_unmasked_snpAln_unwrapped"
   ]
  },
  {
   "cell_type": "code",
   "execution_count": 54,
   "id": "209c7b1f",
   "metadata": {},
   "outputs": [],
   "source": [
    "!seqkit seq -w 0 $bol_masked_snp_aln_forSnpPar > $bol_masked_snpAln_unwrapped"
   ]
  },
  {
   "cell_type": "code",
   "execution_count": 55,
   "id": "032c18b1",
   "metadata": {},
   "outputs": [],
   "source": [
    "!seqkit seq -w 0 $bol_unmasked_snp_aln_forSnpPar > $bol_unmasked_snpAln_unwrapped"
   ]
  },
  {
   "cell_type": "code",
   "execution_count": null,
   "id": "24d02ae3",
   "metadata": {},
   "outputs": [],
   "source": []
  }
 ],
 "metadata": {
  "kernelspec": {
   "display_name": "Python 3",
   "language": "python",
   "name": "python3"
  },
  "language_info": {
   "codemirror_mode": {
    "name": "ipython",
    "version": 3
   },
   "file_extension": ".py",
   "mimetype": "text/x-python",
   "name": "python",
   "nbconvert_exporter": "python",
   "pygments_lexer": "ipython3",
   "version": "3.8.8"
  }
 },
 "nbformat": 4,
 "nbformat_minor": 5
}
