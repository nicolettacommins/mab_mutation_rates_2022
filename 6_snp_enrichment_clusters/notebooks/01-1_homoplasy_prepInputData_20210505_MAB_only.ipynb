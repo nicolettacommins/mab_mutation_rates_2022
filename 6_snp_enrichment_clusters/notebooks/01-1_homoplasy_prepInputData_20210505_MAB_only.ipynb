{
 "cells": [
  {
   "cell_type": "code",
   "execution_count": 1,
   "id": "37053f3f",
   "metadata": {},
   "outputs": [
    {
     "data": {
      "text/html": [
       "<style>.container { width:100% !important; }</style>"
      ],
      "text/plain": [
       "<IPython.core.display.HTML object>"
      ]
     },
     "metadata": {},
     "output_type": "display_data"
    }
   ],
   "source": [
    "from IPython.core.display import display, HTML\n",
    "display(HTML(\"<style>.container { width:100% !important; }</style>\"))"
   ]
  },
  {
   "cell_type": "code",
   "execution_count": 1,
   "id": "66fdcb2a",
   "metadata": {},
   "outputs": [],
   "source": [
    "from ete3 import Tree\n",
    "from Bio import AlignIO\n",
    "from cyvcf2 import VCF"
   ]
  },
  {
   "cell_type": "markdown",
   "id": "c56e4a43",
   "metadata": {},
   "source": [
    "###### Purpose: \n",
    "prepare input data for using SNPPar according to requirements described here: https://github.com/d-j-e/SNPPar\n",
    "\n",
    "20210508NC"
   ]
  },
  {
   "cell_type": "markdown",
   "id": "e064d1dd",
   "metadata": {},
   "source": [
    "### 1. [Get full-length recombination-free alignment](#1)\n",
    "### 2. [Get list of SNP positions](#2)\n",
    "### 3. [Use SNP sites to get SNP alignments](#3)\n",
    "### 4. [Convert residual Ns to -s](#4)"
   ]
  },
  {
   "cell_type": "markdown",
   "id": "bdca11eb",
   "metadata": {},
   "source": [
    "<a id=\"1\"></a>\n",
    "### 1. Get a full length, recombination-free alignment\n",
    "\n",
    "Currently I only have the standard output of Gubbins, which is a recombination-free SNP alignment. Because I want to know the position of each SNP in the alignment, I need to start with a full-length alignment, but I also want to exclude recombination events. Here I use a script from Nick Croucher to use mask the full length alignment using the Gubbins output. Script can be found here: https://github.com/sanger-pathogens/gubbins/tree/masking_aln\n",
    "\n",
    "\n"
   ]
  },
  {
   "cell_type": "code",
   "execution_count": 5,
   "id": "1dda820c",
   "metadata": {},
   "outputs": [
    {
     "name": "stdout",
     "output_type": "stream",
     "text": [
      "usage: mask_gubbins_aln [-h] --aln ALN --gff GFF --out OUT [--out-fmt OUT_FMT]\r\n",
      "                        [--missing-char MISSING_CHAR]\r\n",
      "\r\n",
      "Mask recombinant regions detected by Gubbins from the input alignment\r\n",
      "\r\n",
      "optional arguments:\r\n",
      "  -h, --help            show this help message and exit\r\n",
      "  --aln ALN             Input alignment (FASTA format)\r\n",
      "  --gff GFF             GFF of recombinant regions detected by Gubbins\r\n",
      "  --out OUT             Output file name\r\n",
      "  --out-fmt OUT_FMT     Format of output alignment\r\n",
      "  --missing-char MISSING_CHAR\r\n",
      "                        Character used to replace recombinant sequence\r\n"
     ]
    }
   ],
   "source": [
    "!python3 ../scripts/mask_gubbins_aln.py -h"
   ]
  },
  {
   "cell_type": "code",
   "execution_count": 1,
   "id": "174a7d88",
   "metadata": {},
   "outputs": [],
   "source": [
    "input_alignment='/n/data1/hms/dbmi/farhat/nikki/abscessus/fasta_for_gubbins/mab_MSA_for_Gubbins_w_outgroup_ref.fasta'\n",
    "gubbins_gff='/n/data1/hms/dbmi/farhat/nikki/abscessus/gubbins/mab/raxml/Gubbins_run1/mab_raxml.recombination_predictions.gff'\n",
    "full_masked_aln_for_snpPar='../vars/mab_fullLengthAln_gubbinsMasked_for_snpPar_20210507.fasta'\n",
    "\n",
    "#!python3 ../scripts/mask_gubbins_aln.py --aln $input_alignment --gff $gubbins_gff --out $full_masked_aln_for_snpPar --missing-char '-' --out-fmt 'fasta'"
   ]
  },
  {
   "cell_type": "markdown",
   "id": "f32a3b90",
   "metadata": {},
   "source": [
    "** Note: in this masked alignment, Ns represent sites I masked previously because of quality issues, and - represent recombination. This is the opposite of how Gubbins outputs its alignment, so be sure to account for that later when tabulating the % of the genome that is predicted recombination regions."
   ]
  },
  {
   "cell_type": "markdown",
   "id": "64efd0f1",
   "metadata": {},
   "source": [
    "<a id=\"2\"></a>\n",
    "### 2. Use SNP sites to generate VCFs from the SNP data and get the SNP positions"
   ]
  },
  {
   "cell_type": "markdown",
   "id": "9c2231bc",
   "metadata": {},
   "source": [
    "#### First make sure the isolates in the tree match the isolates in the fasta file:"
   ]
  },
  {
   "cell_type": "markdown",
   "id": "6026d923",
   "metadata": {},
   "source": [
    "Now I have two alignments, input alignment and full_masked_aln_for_snpPar"
   ]
  },
  {
   "cell_type": "code",
   "execution_count": 21,
   "id": "244381ed",
   "metadata": {},
   "outputs": [],
   "source": [
    "tree_path='/n/data1/hms/dbmi/farhat/nikki/abscessus/0_NOTEBOOKS/working_trees/mab/mab_upid_dropped_outgroup_and_outlier_distance_rooted.tree'"
   ]
  },
  {
   "cell_type": "code",
   "execution_count": 22,
   "id": "1ed5e077",
   "metadata": {},
   "outputs": [],
   "source": [
    "# read in the tree\n",
    "tree=Tree(tree_path, format=0)"
   ]
  },
  {
   "cell_type": "code",
   "execution_count": 23,
   "id": "31a58913",
   "metadata": {},
   "outputs": [],
   "source": [
    "# get a list of all the isolates in the tree\n",
    "isolates_in_tree=[l.name for l in tree.get_leaves()]"
   ]
  },
  {
   "cell_type": "code",
   "execution_count": 24,
   "id": "ec80f4a5",
   "metadata": {},
   "outputs": [
    {
     "data": {
      "text/plain": [
       "356"
      ]
     },
     "execution_count": 24,
     "metadata": {},
     "output_type": "execute_result"
    }
   ],
   "source": [
    "len(isolates_in_tree)"
   ]
  },
  {
   "cell_type": "code",
   "execution_count": 25,
   "id": "83ece309",
   "metadata": {},
   "outputs": [],
   "source": [
    "# write isolate list to a text file\n",
    "with open('../vars/isolates_in_mab_tree.txt', 'w') as filehandle:\n",
    "    for isolate in isolates_in_tree:\n",
    "        filehandle.write('%s\\n' % isolate)"
   ]
  },
  {
   "cell_type": "code",
   "execution_count": 2,
   "id": "9cb92cc3",
   "metadata": {},
   "outputs": [],
   "source": [
    "input_aln_filtered='/n/data1/hms/dbmi/farhat/nikki/abscessus/0_NOTEBOOKS/010_homoplasy/vars/mab_unmasked_msa_treeIsolatesFiltered.fasta'\n",
    "masked_aln_filtered='/n/data1/hms/dbmi/farhat/nikki/abscessus/0_NOTEBOOKS/010_homoplasy/vars/mab_masked_msa_treeIsolatesFiltered.fasta'"
   ]
  },
  {
   "cell_type": "markdown",
   "id": "8c7b299a",
   "metadata": {},
   "source": [
    "A. Filter the unmasked alignment:"
   ]
  },
  {
   "cell_type": "code",
   "execution_count": 3,
   "id": "5f5eb269",
   "metadata": {},
   "outputs": [],
   "source": [
    "#use seqkit to subset the fasta file\n",
    "!seqkit grep -f ../vars/isolates_in_mab_tree.txt $input_alignment > $input_aln_filtered"
   ]
  },
  {
   "cell_type": "code",
   "execution_count": 28,
   "id": "0342f9fb",
   "metadata": {},
   "outputs": [
    {
     "name": "stdout",
     "output_type": "stream",
     "text": [
      "356\r\n"
     ]
    }
   ],
   "source": [
    "# double check I have the right number of sequences in the fasta file\n",
    "!grep \">\" $input_aln_filtered | wc -l"
   ]
  },
  {
   "cell_type": "markdown",
   "id": "c12c42c1",
   "metadata": {},
   "source": [
    "B. Filter the recombination free alignment:"
   ]
  },
  {
   "cell_type": "code",
   "execution_count": 29,
   "id": "65c69d2b",
   "metadata": {},
   "outputs": [],
   "source": [
    "#use seqkit to subset the fasta file\n",
    "!seqkit grep -f ../vars/isolates_in_mab_tree.txt $full_masked_aln_for_snpPar > $masked_aln_filtered"
   ]
  },
  {
   "cell_type": "code",
   "execution_count": 30,
   "id": "114c215e",
   "metadata": {},
   "outputs": [
    {
     "name": "stdout",
     "output_type": "stream",
     "text": [
      "356\r\n"
     ]
    }
   ],
   "source": [
    "# double check I have the right number of sequences in the fasta file\n",
    "!grep \">\" $masked_aln_filtered | wc -l"
   ]
  },
  {
   "cell_type": "markdown",
   "id": "4be91675",
   "metadata": {},
   "source": [
    "#### Use snp-sites to get an output VCF:"
   ]
  },
  {
   "cell_type": "markdown",
   "id": "8bafd0e3",
   "metadata": {},
   "source": [
    "A. Unmasked alignment:"
   ]
  },
  {
   "cell_type": "code",
   "execution_count": 31,
   "id": "35d7b216",
   "metadata": {},
   "outputs": [],
   "source": [
    "unmasked_vcf=\"/n/data1/hms/dbmi/farhat/nikki/abscessus/0_NOTEBOOKS/010_homoplasy/vars/mab_snpSites_unmasked.vcf\""
   ]
  },
  {
   "cell_type": "code",
   "execution_count": 33,
   "id": "f2e0ca1f",
   "metadata": {},
   "outputs": [],
   "source": [
    "!snp-sites -v -o $unmasked_vcf $input_aln_filtered"
   ]
  },
  {
   "cell_type": "markdown",
   "id": "78f417d9",
   "metadata": {},
   "source": [
    "B. Masked alignment:"
   ]
  },
  {
   "cell_type": "code",
   "execution_count": 35,
   "id": "1e6d1d28",
   "metadata": {},
   "outputs": [],
   "source": [
    "masked_vcf=\"/n/data1/hms/dbmi/farhat/nikki/abscessus/0_NOTEBOOKS/010_homoplasy/vars/mab_snpSites_masked.vcf\""
   ]
  },
  {
   "cell_type": "code",
   "execution_count": 36,
   "id": "166aa849",
   "metadata": {},
   "outputs": [],
   "source": [
    "!snp-sites -v -o $masked_vcf $masked_aln_filtered "
   ]
  },
  {
   "cell_type": "markdown",
   "id": "af3906e6",
   "metadata": {},
   "source": [
    "#### parse VCF for all the SNP positions"
   ]
  },
  {
   "cell_type": "markdown",
   "id": "6fb16836",
   "metadata": {},
   "source": [
    "A. get snp positions from unmasked alignment:"
   ]
  },
  {
   "cell_type": "code",
   "execution_count": 38,
   "id": "ffcf078f",
   "metadata": {},
   "outputs": [],
   "source": [
    "snp_pos=[]\n",
    "v1=VCF(unmasked_vcf)\n",
    "for v in v1:\n",
    "    snp_pos.append(v.POS)"
   ]
  },
  {
   "cell_type": "code",
   "execution_count": 39,
   "id": "19f904c1",
   "metadata": {},
   "outputs": [
    {
     "data": {
      "text/plain": [
       "189066"
      ]
     },
     "execution_count": 39,
     "metadata": {},
     "output_type": "execute_result"
    }
   ],
   "source": [
    "len(snp_pos)"
   ]
  },
  {
   "cell_type": "code",
   "execution_count": 40,
   "id": "31ea14bb",
   "metadata": {},
   "outputs": [],
   "source": [
    "# convert into a position file \n",
    "with open('../vars/mab_unmasked_snp_positions.txt', 'w') as filehandle:\n",
    "    for pos in snp_pos:\n",
    "        filehandle.write('%s\\n' % pos)"
   ]
  },
  {
   "cell_type": "markdown",
   "id": "8a998a10",
   "metadata": {},
   "source": [
    "B. get snp positions from unmasked alignment:"
   ]
  },
  {
   "cell_type": "code",
   "execution_count": 43,
   "id": "30443119",
   "metadata": {},
   "outputs": [],
   "source": [
    "snp_pos_masked=[]\n",
    "v2=VCF(masked_vcf)\n",
    "for v in v2:\n",
    "    snp_pos_masked.append(v.POS)"
   ]
  },
  {
   "cell_type": "code",
   "execution_count": 45,
   "id": "31ff69f9",
   "metadata": {},
   "outputs": [],
   "source": [
    "# convert into a position file \n",
    "with open('../vars/mab_masked_snp_positions.txt', 'w') as filehandle:\n",
    "    for pos in snp_pos_masked:\n",
    "        filehandle.write('%s\\n' % pos)"
   ]
  },
  {
   "cell_type": "markdown",
   "id": "7260aa8c",
   "metadata": {},
   "source": [
    "<a id=\"3\"></a>\n",
    "### 3. Use SNP sites to get SNP alignments"
   ]
  },
  {
   "cell_type": "markdown",
   "id": "d2018596",
   "metadata": {},
   "source": [
    "A. get snps from the unmasked alignment:"
   ]
  },
  {
   "cell_type": "code",
   "execution_count": 10,
   "id": "073aaa28",
   "metadata": {},
   "outputs": [],
   "source": [
    "unmasked_snp_alignment=\"/n/data1/hms/dbmi/farhat/nikki/abscessus/0_NOTEBOOKS/010_homoplasy/vars/mab_unmasked_snpAln.fasta\""
   ]
  },
  {
   "cell_type": "code",
   "execution_count": 48,
   "id": "71ee9301",
   "metadata": {},
   "outputs": [],
   "source": [
    "!snp-sites -o $unmasked_snp_alignment $input_aln_filtered"
   ]
  },
  {
   "cell_type": "code",
   "execution_count": 49,
   "id": "7aad48b3",
   "metadata": {},
   "outputs": [],
   "source": [
    "aln_unmasked=AlignIO.read(unmasked_snp_alignment, \"fasta\")"
   ]
  },
  {
   "cell_type": "code",
   "execution_count": 51,
   "id": "a8a3413d",
   "metadata": {},
   "outputs": [
    {
     "data": {
      "text/plain": [
       "189066"
      ]
     },
     "execution_count": 51,
     "metadata": {},
     "output_type": "execute_result"
    }
   ],
   "source": [
    "len(aln_unmasked[0])"
   ]
  },
  {
   "cell_type": "markdown",
   "id": "98cfda4f",
   "metadata": {},
   "source": [
    "B. get snps from the masked alignment"
   ]
  },
  {
   "cell_type": "code",
   "execution_count": 2,
   "id": "e1a8b2e9",
   "metadata": {},
   "outputs": [],
   "source": [
    "masked_snp_alignment=\"/n/data1/hms/dbmi/farhat/nikki/abscessus/0_NOTEBOOKS/010_homoplasy/vars/mab_masked_snpAln.fasta\""
   ]
  },
  {
   "cell_type": "code",
   "execution_count": 53,
   "id": "227c5673",
   "metadata": {},
   "outputs": [],
   "source": [
    "#!snp-sites -o $masked_snp_alignment $masked_aln_filtered "
   ]
  },
  {
   "cell_type": "code",
   "execution_count": 6,
   "id": "ed3c25b1",
   "metadata": {},
   "outputs": [],
   "source": [
    "aln_masked=AlignIO.read(masked_snp_alignment, \"fasta\")"
   ]
  },
  {
   "cell_type": "code",
   "execution_count": 80,
   "id": "39293396",
   "metadata": {},
   "outputs": [
    {
     "data": {
      "text/plain": [
       "65231"
      ]
     },
     "execution_count": 80,
     "metadata": {},
     "output_type": "execute_result"
    }
   ],
   "source": [
    "len(aln_masked[0])"
   ]
  },
  {
   "cell_type": "markdown",
   "id": "ea03a2fe",
   "metadata": {},
   "source": [
    "<a id=\"4\"></a>\n",
    "### 4. Convert remaining N to -"
   ]
  },
  {
   "cell_type": "markdown",
   "id": "adc66d9c",
   "metadata": {},
   "source": [
    "SNPPar wants an input fasta with all missing or ambiguous sites to be - but my alignments still have some Ns in them. Here I convert the 'N's to '-'s using the script convert_aln_char.py"
   ]
  },
  {
   "cell_type": "code",
   "execution_count": 27,
   "id": "78a74f37",
   "metadata": {},
   "outputs": [
    {
     "name": "stdout",
     "output_type": "stream",
     "text": [
      "usage: convert_aln_char [-h] --in_aln IN_ALN --out_aln OUT_ALN --old_char\r\n",
      "                        OLD_CHAR --new_char NEW_CHAR\r\n",
      "\r\n",
      "Remove all instances of one characterfrom an alignment and replace them with a\r\n",
      "new character\r\n",
      "\r\n",
      "optional arguments:\r\n",
      "  -h, --help           show this help message and exit\r\n",
      "  --in_aln IN_ALN      Input alignment (FASTA format)\r\n",
      "  --out_aln OUT_ALN    Output file name (FASTA format)\r\n",
      "  --old_char OLD_CHAR  character we want to replace\r\n",
      "  --new_char NEW_CHAR  character we want to insert instead of --from_char\r\n"
     ]
    }
   ],
   "source": [
    "!python3 ../scripts/convert_aln_char.py -h"
   ]
  },
  {
   "cell_type": "code",
   "execution_count": 12,
   "id": "62fafaae",
   "metadata": {},
   "outputs": [],
   "source": [
    "unmasked_snp_aln_forSnpPar=\"/n/data1/hms/dbmi/farhat/nikki/abscessus/0_NOTEBOOKS/010_homoplasy/vars/mab_unmasked_snpAln_forSnpPar.fasta\""
   ]
  },
  {
   "cell_type": "code",
   "execution_count": 45,
   "id": "ff7ef1dd",
   "metadata": {},
   "outputs": [],
   "source": [
    "!python3 ../scripts/convert_aln_char.py --in_aln $unmasked_snp_alignment --out_aln $unmasked_snp_aln_forSnpPar --old_char 'N' --new_char '-' "
   ]
  },
  {
   "cell_type": "code",
   "execution_count": 13,
   "id": "957e4a3d",
   "metadata": {},
   "outputs": [],
   "source": [
    "masked_snp_aln_forSnpPar=\"/n/data1/hms/dbmi/farhat/nikki/abscessus/0_NOTEBOOKS/010_homoplasy/vars/mab_masked_snpAln_forSnpPar.fasta\""
   ]
  },
  {
   "cell_type": "code",
   "execution_count": 47,
   "id": "ce1d4b32",
   "metadata": {},
   "outputs": [],
   "source": [
    "!python3 ../scripts/convert_aln_char.py --in_aln $masked_snp_alignment --out_aln $masked_snp_aln_forSnpPar --old_char 'N' --new_char '-' "
   ]
  },
  {
   "cell_type": "markdown",
   "id": "b12216a4",
   "metadata": {},
   "source": [
    "##### Convert to MFASTA format (one entry per 2 lines)"
   ]
  },
  {
   "cell_type": "code",
   "execution_count": 14,
   "id": "a9aaf957",
   "metadata": {},
   "outputs": [],
   "source": [
    "masked_snpAln_unwrapped=\"/n/data1/hms/dbmi/farhat/nikki/abscessus/0_NOTEBOOKS/010_homoplasy/vars/mab_masked_snpAln_unwrapped.fasta\"\n",
    "unmasked_snpAln_unwrapped=\"/n/data1/hms/dbmi/farhat/nikki/abscessus/0_NOTEBOOKS/010_homoplasy/vars/mab_unmasked_snpAln_unwrapped.fasta\""
   ]
  },
  {
   "cell_type": "code",
   "execution_count": 15,
   "id": "2d05316e",
   "metadata": {},
   "outputs": [],
   "source": [
    "!seqkit seq -w 0 $masked_snp_aln_forSnpPar > $masked_snpAln_unwrapped"
   ]
  },
  {
   "cell_type": "code",
   "execution_count": 16,
   "id": "3090736c",
   "metadata": {},
   "outputs": [],
   "source": [
    "!seqkit seq -w 0 $unmasked_snp_aln_forSnpPar > $unmasked_snpAln_unwrapped"
   ]
  },
  {
   "cell_type": "code",
   "execution_count": null,
   "id": "209c7b1f",
   "metadata": {},
   "outputs": [],
   "source": []
  }
 ],
 "metadata": {
  "kernelspec": {
   "display_name": "Python [conda env:homoplasy]",
   "language": "python",
   "name": "conda-env-homoplasy-py"
  },
  "language_info": {
   "codemirror_mode": {
    "name": "ipython",
    "version": 3
   },
   "file_extension": ".py",
   "mimetype": "text/x-python",
   "name": "python",
   "nbconvert_exporter": "python",
   "pygments_lexer": "ipython3",
   "version": "3.6.13"
  }
 },
 "nbformat": 4,
 "nbformat_minor": 5
}
