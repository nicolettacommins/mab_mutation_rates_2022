{
 "cells": [
  {
   "cell_type": "markdown",
   "metadata": {},
   "source": [
    "## 20200128 fix error in prodecure for getting MQ and BQ from VCFs\n",
    "\n",
    "Previous procedure (notebook 19) includes plasmids in a way that counts each position twice. Need to repeat all MQ and BQ, removing the plasmid. "
   ]
  },
  {
   "cell_type": "code",
   "execution_count": 1,
   "metadata": {},
   "outputs": [],
   "source": [
    "import allel\n",
    "import time\n",
    "import pickle\n",
    "import matplotlib.pyplot as plt\n",
    "import more_itertools as mit\n",
    "import pandas as pd"
   ]
  },
  {
   "cell_type": "code",
   "execution_count": 2,
   "metadata": {},
   "outputs": [],
   "source": [
    "fig_size = plt.rcParams[\"figure.figsize\"]\n",
    "fig_size[0] = 10\n",
    "fig_size[1] = 8\n",
    "plt.rcParams[\"figure.figsize\"] = fig_size"
   ]
  },
  {
   "cell_type": "markdown",
   "metadata": {},
   "source": [
    "time speed using the old (wrong) method:"
   ]
  },
  {
   "cell_type": "code",
   "execution_count": 3,
   "metadata": {},
   "outputs": [
    {
     "ename": "KeyboardInterrupt",
     "evalue": "",
     "output_type": "error",
     "traceback": [
      "\u001b[0;31m---------------------------------------------------------------------------\u001b[0m",
      "\u001b[0;31mKeyboardInterrupt\u001b[0m                         Traceback (most recent call last)",
      "\u001b[0;32m<ipython-input-3-67c3890623b7>\u001b[0m in \u001b[0;36m<module>\u001b[0;34m\u001b[0m\n\u001b[1;32m      5\u001b[0m \u001b[0mstart\u001b[0m \u001b[0;34m=\u001b[0m \u001b[0mtime\u001b[0m\u001b[0;34m.\u001b[0m\u001b[0mtime\u001b[0m\u001b[0;34m(\u001b[0m\u001b[0;34m)\u001b[0m\u001b[0;34m\u001b[0m\u001b[0;34m\u001b[0m\u001b[0m\n\u001b[1;32m      6\u001b[0m \u001b[0;34m\u001b[0m\u001b[0m\n\u001b[0;32m----> 7\u001b[0;31m \u001b[0mcallset\u001b[0m \u001b[0;34m=\u001b[0m \u001b[0mallel\u001b[0m\u001b[0;34m.\u001b[0m\u001b[0mread_vcf\u001b[0m\u001b[0;34m(\u001b[0m\u001b[0;34m'mq_bq_parsing/SAMEA1317696_full.vcf.gz'\u001b[0m\u001b[0;34m,\u001b[0m \u001b[0mfields\u001b[0m\u001b[0;34m=\u001b[0m\u001b[0;34m[\u001b[0m\u001b[0;34m'variants/MQ'\u001b[0m\u001b[0;34m,\u001b[0m \u001b[0;34m'variants/POS'\u001b[0m\u001b[0;34m]\u001b[0m\u001b[0;34m)\u001b[0m\u001b[0;34m\u001b[0m\u001b[0;34m\u001b[0m\u001b[0m\n\u001b[0m\u001b[1;32m      8\u001b[0m \u001b[0;34m\u001b[0m\u001b[0m\n\u001b[1;32m      9\u001b[0m \u001b[0;32mfor\u001b[0m \u001b[0mi\u001b[0m \u001b[0;32min\u001b[0m \u001b[0mrange\u001b[0m\u001b[0;34m(\u001b[0m\u001b[0;36m0\u001b[0m\u001b[0;34m,\u001b[0m\u001b[0mlen\u001b[0m\u001b[0;34m(\u001b[0m\u001b[0mcallset\u001b[0m\u001b[0;34m[\u001b[0m\u001b[0;34m'variants/MQ'\u001b[0m\u001b[0;34m]\u001b[0m\u001b[0;34m)\u001b[0m\u001b[0;34m)\u001b[0m\u001b[0;34m:\u001b[0m\u001b[0;34m\u001b[0m\u001b[0;34m\u001b[0m\u001b[0m\n",
      "\u001b[0;32m~/opt/miniconda3/lib/python3.7/site-packages/allel/io/vcf_read.py\u001b[0m in \u001b[0;36mread_vcf\u001b[0;34m(input, fields, exclude_fields, rename_fields, types, numbers, alt_number, fills, region, tabix, samples, transformers, buffer_size, chunk_length, log)\u001b[0m\n\u001b[1;32m    322\u001b[0m \u001b[0;34m\u001b[0m\u001b[0m\n\u001b[1;32m    323\u001b[0m     \u001b[0;31m# read all chunks into a list\u001b[0m\u001b[0;34m\u001b[0m\u001b[0;34m\u001b[0m\u001b[0;34m\u001b[0m\u001b[0m\n\u001b[0;32m--> 324\u001b[0;31m     \u001b[0mchunks\u001b[0m \u001b[0;34m=\u001b[0m \u001b[0;34m[\u001b[0m\u001b[0md\u001b[0m\u001b[0;34m[\u001b[0m\u001b[0;36m0\u001b[0m\u001b[0;34m]\u001b[0m \u001b[0;32mfor\u001b[0m \u001b[0md\u001b[0m \u001b[0;32min\u001b[0m \u001b[0mit\u001b[0m\u001b[0;34m]\u001b[0m\u001b[0;34m\u001b[0m\u001b[0;34m\u001b[0m\u001b[0m\n\u001b[0m\u001b[1;32m    325\u001b[0m \u001b[0;34m\u001b[0m\u001b[0m\n\u001b[1;32m    326\u001b[0m     \u001b[0;32mif\u001b[0m \u001b[0mchunks\u001b[0m\u001b[0;34m:\u001b[0m\u001b[0;34m\u001b[0m\u001b[0;34m\u001b[0m\u001b[0m\n",
      "\u001b[0;32m~/opt/miniconda3/lib/python3.7/site-packages/allel/io/vcf_read.py\u001b[0m in \u001b[0;36m<listcomp>\u001b[0;34m(.0)\u001b[0m\n\u001b[1;32m    322\u001b[0m \u001b[0;34m\u001b[0m\u001b[0m\n\u001b[1;32m    323\u001b[0m     \u001b[0;31m# read all chunks into a list\u001b[0m\u001b[0;34m\u001b[0m\u001b[0;34m\u001b[0m\u001b[0;34m\u001b[0m\u001b[0m\n\u001b[0;32m--> 324\u001b[0;31m     \u001b[0mchunks\u001b[0m \u001b[0;34m=\u001b[0m \u001b[0;34m[\u001b[0m\u001b[0md\u001b[0m\u001b[0;34m[\u001b[0m\u001b[0;36m0\u001b[0m\u001b[0;34m]\u001b[0m \u001b[0;32mfor\u001b[0m \u001b[0md\u001b[0m \u001b[0;32min\u001b[0m \u001b[0mit\u001b[0m\u001b[0;34m]\u001b[0m\u001b[0;34m\u001b[0m\u001b[0;34m\u001b[0m\u001b[0m\n\u001b[0m\u001b[1;32m    325\u001b[0m \u001b[0;34m\u001b[0m\u001b[0m\n\u001b[1;32m    326\u001b[0m     \u001b[0;32mif\u001b[0m \u001b[0mchunks\u001b[0m\u001b[0;34m:\u001b[0m\u001b[0;34m\u001b[0m\u001b[0;34m\u001b[0m\u001b[0m\n",
      "\u001b[0;32mallel/opt/io_vcf_read.pyx\u001b[0m in \u001b[0;36mallel.opt.io_vcf_read.VCFChunkIterator.__next__\u001b[0;34m()\u001b[0m\n",
      "\u001b[0;32mallel/opt/io_vcf_read.pyx\u001b[0m in \u001b[0;36mallel.opt.io_vcf_read.VCFParser.parse\u001b[0;34m()\u001b[0m\n",
      "\u001b[0;32mallel/opt/io_vcf_read.pyx\u001b[0m in \u001b[0;36mallel.opt.io_vcf_read.VCFInfoParser.parse\u001b[0;34m()\u001b[0m\n",
      "\u001b[0;32mallel/opt/io_vcf_read.pyx\u001b[0m in \u001b[0;36mallel.opt.io_vcf_read.VCFInfoParser.parse_info\u001b[0;34m()\u001b[0m\n",
      "\u001b[0;32mallel/opt/io_vcf_read.pyx\u001b[0m in \u001b[0;36mallel.opt.io_vcf_read.VCFInfoSkipParser.parse\u001b[0;34m()\u001b[0m\n",
      "\u001b[0;32mallel/opt/io_vcf_read.pyx\u001b[0m in \u001b[0;36mallel.opt.io_vcf_read.FileInputStream.advance\u001b[0;34m()\u001b[0m\n",
      "\u001b[0;32mallel/opt/io_vcf_read.pyx\u001b[0m in \u001b[0;36mallel.opt.io_vcf_read.FileInputStream._bufferup\u001b[0;34m()\u001b[0m\n",
      "\u001b[0;32m~/opt/miniconda3/lib/python3.7/gzip.py\u001b[0m in \u001b[0;36mread\u001b[0;34m(self, size)\u001b[0m\n\u001b[1;32m    269\u001b[0m         \u001b[0;32mreturn\u001b[0m \u001b[0mlength\u001b[0m\u001b[0;34m\u001b[0m\u001b[0;34m\u001b[0m\u001b[0m\n\u001b[1;32m    270\u001b[0m \u001b[0;34m\u001b[0m\u001b[0m\n\u001b[0;32m--> 271\u001b[0;31m     \u001b[0;32mdef\u001b[0m \u001b[0mread\u001b[0m\u001b[0;34m(\u001b[0m\u001b[0mself\u001b[0m\u001b[0;34m,\u001b[0m \u001b[0msize\u001b[0m\u001b[0;34m=\u001b[0m\u001b[0;34m-\u001b[0m\u001b[0;36m1\u001b[0m\u001b[0;34m)\u001b[0m\u001b[0;34m:\u001b[0m\u001b[0;34m\u001b[0m\u001b[0;34m\u001b[0m\u001b[0m\n\u001b[0m\u001b[1;32m    272\u001b[0m         \u001b[0mself\u001b[0m\u001b[0;34m.\u001b[0m\u001b[0m_check_not_closed\u001b[0m\u001b[0;34m(\u001b[0m\u001b[0;34m)\u001b[0m\u001b[0;34m\u001b[0m\u001b[0;34m\u001b[0m\u001b[0m\n\u001b[1;32m    273\u001b[0m         \u001b[0;32mif\u001b[0m \u001b[0mself\u001b[0m\u001b[0;34m.\u001b[0m\u001b[0mmode\u001b[0m \u001b[0;34m!=\u001b[0m \u001b[0mREAD\u001b[0m\u001b[0;34m:\u001b[0m\u001b[0;34m\u001b[0m\u001b[0;34m\u001b[0m\u001b[0m\n",
      "\u001b[0;31mKeyboardInterrupt\u001b[0m: "
     ]
    }
   ],
   "source": [
    "chrom_length=5067172\n",
    "mq=[0]*chrom_length\n",
    "counter=0\n",
    "\n",
    "start = time.time()\n",
    "\n",
    "callset = allel.read_vcf('mq_bq_parsing/SAMEA1317696_full.vcf.gz', fields=['variants/MQ', 'variants/POS'])\n",
    "\n",
    "for i in range(0,len(callset['variants/MQ'])):\n",
    "    counter=counter+1\n",
    "    if -1< callset['variants/MQ'][i]<20:\n",
    "        #print([callset['variants/POS'][i]-1, callset['variants/MQ'][i]])\n",
    "        mq[callset['variants/POS'][i]-1]=mq[callset['variants/POS'][i]-1]+1\n",
    "        \n",
    "end = time.time()        \n",
    "print('Time taken: ', end - start)\n",
    "print(counter)"
   ]
  },
  {
   "cell_type": "code",
   "execution_count": 7,
   "metadata": {},
   "outputs": [],
   "source": [
    "callset = allel.read_vcf('mq_bq_parsing/SAMEA1317696_full.vcf.gz', fields=['variants/CHROM', 'variants/MQ', 'variants/POS'])"
   ]
  },
  {
   "cell_type": "code",
   "execution_count": 8,
   "metadata": {},
   "outputs": [
    {
     "data": {
      "text/plain": [
       "array(['NC_010397.1', 'NC_010397.1', 'NC_010397.1', ..., 'NC_010394.1',\n",
       "       'NC_010394.1', 'NC_010394.1'], dtype=object)"
      ]
     },
     "execution_count": 8,
     "metadata": {},
     "output_type": "execute_result"
    }
   ],
   "source": [
    "callset['variants/CHROM']"
   ]
  },
  {
   "cell_type": "markdown",
   "metadata": {},
   "source": [
    "Time the new method:"
   ]
  },
  {
   "cell_type": "code",
   "execution_count": 14,
   "metadata": {},
   "outputs": [
    {
     "name": "stdout",
     "output_type": "stream",
     "text": [
      "Time taken:  45.70736002922058\n",
      "5067561\n"
     ]
    }
   ],
   "source": [
    "chrom_length=5067172\n",
    "mq_2=[0]*chrom_length\n",
    "counter=0\n",
    "\n",
    "start = time.time()\n",
    "\n",
    "callset = allel.read_vcf('mq_bq_parsing/SAMEA1317696_full.vcf.gz', fields=['variants/CHROM', 'variants/MQ', 'variants/POS'])\n",
    "\n",
    "for i in range(0,len(callset['variants/MQ'])):\n",
    "    if callset['variants/CHROM'][i]!='NC_010397.1':\n",
    "        break\n",
    "    counter=counter+1\n",
    "    if -1< callset['variants/MQ'][i]<20:\n",
    "        #print([callset['variants/POS'][i]-1, callset['variants/MQ'][i]])\n",
    "        mq_2[callset['variants/POS'][i]-1]=mq_2[callset['variants/POS'][i]-1]+1\n",
    "        \n",
    "end = time.time()        \n",
    "print('Time taken: ', end - start)\n",
    "print(counter)"
   ]
  },
  {
   "cell_type": "code",
   "execution_count": 16,
   "metadata": {},
   "outputs": [
    {
     "data": {
      "text/plain": [
       "5067593"
      ]
     },
     "execution_count": 16,
     "metadata": {},
     "output_type": "execute_result"
    }
   ],
   "source": [
    "5067561+32"
   ]
  },
  {
   "cell_type": "markdown",
   "metadata": {},
   "source": [
    "works and isn't much slower!"
   ]
  },
  {
   "cell_type": "code",
   "execution_count": 12,
   "metadata": {},
   "outputs": [
    {
     "name": "stdout",
     "output_type": "stream",
     "text": [
      "Time taken:  41.679481983184814\n",
      "5067665\n"
     ]
    }
   ],
   "source": [
    "chrom_length=5067172\n",
    "mq_3=[0]*chrom_length\n",
    "counter=0\n",
    "\n",
    "start = time.time()\n",
    "\n",
    "callset = allel.read_vcf('mq_bq_parsing/SAMN12787906_full.vcf.gz', fields=['variants/CHROM', 'variants/MQ', 'variants/POS'])\n",
    "\n",
    "for i in range(0,len(callset['variants/MQ'])):\n",
    "    if callset['variants/CHROM'][i]!=callset['variants/CHROM'][0]:\n",
    "        break\n",
    "    counter=counter+1\n",
    "    if -1< callset['variants/MQ'][i]<20:\n",
    "        #print([callset['variants/POS'][i]-1, callset['variants/MQ'][i]])\n",
    "        mq_3[callset['variants/POS'][i]-1]=mq_3[callset['variants/POS'][i]-1]+1\n",
    "        \n",
    "end = time.time()        \n",
    "print('Time taken: ', end - start)\n",
    "print(counter)"
   ]
  },
  {
   "cell_type": "code",
   "execution_count": 20,
   "metadata": {},
   "outputs": [
    {
     "data": {
      "text/plain": [
       "True"
      ]
     },
     "execution_count": 20,
     "metadata": {},
     "output_type": "execute_result"
    }
   ],
   "source": [
    "mq_2==mq_3"
   ]
  },
  {
   "cell_type": "code",
   "execution_count": 15,
   "metadata": {},
   "outputs": [
    {
     "data": {
      "text/plain": [
       "[]"
      ]
     },
     "execution_count": 15,
     "metadata": {},
     "output_type": "execute_result"
    }
   ],
   "source": [
    "[i for i in range(0,len(mq_3)) if mq_3[i]>1]"
   ]
  },
  {
   "cell_type": "code",
   "execution_count": 11,
   "metadata": {},
   "outputs": [
    {
     "data": {
      "text/plain": [
       "5067172"
      ]
     },
     "execution_count": 11,
     "metadata": {},
     "output_type": "execute_result"
    }
   ],
   "source": [
    "len(mq_3)"
   ]
  },
  {
   "cell_type": "markdown",
   "metadata": {},
   "source": [
    "### modify parse_vcf_BQ.py and parse_vcf_MQ.py"
   ]
  },
  {
   "cell_type": "raw",
   "metadata": {},
   "source": [
    "sbatch --mem 50G -t 2-00:00 -p medium -o logs/mab_mq_full_20200124.out -e logs/mab_mq_full_20200124.err --wrap 'python ./bin/parse_vcf_MQ.py ./metadata/strains_passing_depth/mab_pass_depth.txt 5067172 20 ./mapping_quality/mab_low_mq_full';\n",
    "\n",
    "sbatch --mem 50G -t 0-12:00 -p short -o logs/mas_mq_full_20200124.out -e logs/mas_mq_full_20200124.err --wrap 'python ./bin/parse_vcf_MQ.py ./metadata/strains_passing_depth/mas_pass_depth.txt 4978382 20 ./mapping_quality/mas_low_mq_full';\n",
    "\n",
    "sbatch --mem 50G -t 0-12:00 -p short -o logs/bol_mq_full_20200124.out -e logs/bol_mq_full_20200124.err --wrap 'python ./bin/parse_vcf_MQ.py ./metadata/strains_passing_depth/bol_pass_depth.txt 5080450 20 ./mapping_quality/bol_low_mq_full'"
   ]
  },
  {
   "cell_type": "raw",
   "metadata": {},
   "source": [
    "sbatch --mem 50G -t 2-00:00 -p medium -o logs/mab_bq_full_20200124.out -e logs/mab_bq_full_20200124.err --wrap 'python -u ./bin/parse_vcf_BQ.py ./metadata/strains_passing_depth/mab_pass_depth.txt 5067172 20 ./mapping_quality/mab_low_bq_full';\n",
    "\n",
    "sbatch --mem 50G -t 0-12:00 -p short -o logs/mas_bq_full_20200124.out -e logs/mas_bq_full_20200124.err --wrap 'python ./bin/parse_vcf_BQ.py ./metadata/strains_passing_depth/mas_pass_depth.txt 4978382 20 ./mapping_quality/mas_low_bq_full';\n",
    "\n",
    "sbatch --mem 50G -t 0-12:00 -p short -o logs/bol_bq_full_20200124.out -e logs/bol_bq_full_20200124.err --wrap 'python ./bin/parse_vcf_BQ.py ./metadata/strains_passing_depth/bol_pass_depth.txt 5080450 20 ./mapping_quality/bol_low_bq_full'\n"
   ]
  },
  {
   "cell_type": "markdown",
   "metadata": {},
   "source": [
    "Now what if I want to exclude regions with indels?"
   ]
  },
  {
   "cell_type": "code",
   "execution_count": null,
   "metadata": {},
   "outputs": [],
   "source": [
    "chrom_length=5067172\n",
    "mq_3=[0]*chrom_length\n",
    "counter=0\n",
    "\n",
    "start = time.time()\n",
    "\n",
    "callset = allel.read_vcf('mq_bq_parsing/SAMEA1317696_full.vcf.gz', fields=['variants/CHROM', 'variants/MQ', 'variants/POS'])\n",
    "\n",
    "for i in range(0,len(callset['variants/MQ'])):\n",
    "    if callset['variants/CHROM'][i]!=callset['variants/CHROM'][0]:\n",
    "        break\n",
    "    counter=counter+1\n",
    "    if -1< callset['variants/MQ'][i]<20:\n",
    "        #print([callset['variants/POS'][i]-1, callset['variants/MQ'][i]])\n",
    "        mq_3[callset['variants/POS'][i]-1]=mq_3[callset['variants/POS'][i]-1]+1\n",
    "        \n",
    "end = time.time()        \n",
    "print('Time taken: ', end - start)\n",
    "print(counter)"
   ]
  },
  {
   "cell_type": "code",
   "execution_count": 21,
   "metadata": {},
   "outputs": [],
   "source": [
    "callset = allel.read_vcf('mq_bq_parsing/SAMEA1317696_full.vcf.gz', fields=['variants/SVTYPE', 'variants/MQ', 'variants/POS'])\n"
   ]
  },
  {
   "cell_type": "code",
   "execution_count": 32,
   "metadata": {},
   "outputs": [
    {
     "data": {
      "text/plain": [
       "       5090726\n",
       "INS         87\n",
       "DEL         67\n",
       "dtype: int64"
      ]
     },
     "execution_count": 32,
     "metadata": {},
     "output_type": "execute_result"
    }
   ],
   "source": [
    "pd.Series(callset['variants/SVTYPE']).value_counts()"
   ]
  },
  {
   "cell_type": "code",
   "execution_count": null,
   "metadata": {},
   "outputs": [],
   "source": []
  }
 ],
 "metadata": {
  "kernelspec": {
   "display_name": "Python 3",
   "language": "python",
   "name": "python3"
  },
  "language_info": {
   "codemirror_mode": {
    "name": "ipython",
    "version": 3
   },
   "file_extension": ".py",
   "mimetype": "text/x-python",
   "name": "python",
   "nbconvert_exporter": "python",
   "pygments_lexer": "ipython3",
   "version": "3.8.8"
  }
 },
 "nbformat": 4,
 "nbformat_minor": 4
}
